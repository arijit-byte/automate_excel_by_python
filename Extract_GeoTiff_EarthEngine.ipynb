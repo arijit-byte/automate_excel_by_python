{
  "cells": [
    {
      "cell_type": "markdown",
      "source": [
        "!pip install geemap\n",
        "!pip install folium\n",
        "!pip install earthengine-api --upgrade"
      ],
      "metadata": {
        "id": "YyokxpqlCtLX"
      }
    },
    {
      "cell_type": "code",
      "execution_count": 3,
      "metadata": {
        "id": "SML0lLaEsYTG"
      },
      "outputs": [],
      "source": [
        "import folium\n",
        "import ee\n",
        "import geemap"
      ]
    },
    {
      "cell_type": "code",
      "execution_count": 17,
      "metadata": {
        "colab": {
          "base_uri": "https://localhost:8080/"
        },
        "id": "UjX0ll1rsYTJ",
        "outputId": "a3f4667f-1678-4d5b-baf5-ee8bff70cf12",
        "collapsed": true
      },
      "outputs": [
        {
          "output_type": "stream",
          "name": "stdout",
          "text": [
            "To authorize access needed by Earth Engine, open the following URL in a web browser and follow the instructions. If the web browser does not start automatically, please manually browse the URL below.\n",
            "\n",
            "    https://code.earthengine.google.com/client-auth?scopes=https%3A//www.googleapis.com/auth/earthengine%20https%3A//www.googleapis.com/auth/devstorage.full_control&request_id=sXBPVz6XOA_wnF2tBCJ3XgiavOqH8CZVZEkrKBKHqsg&tc=jV-riKeS21n_HeakdL6k3s55X5FUi5N7ysW4PtWkmQE&cc=dRw6n8cbV7xrr0YsrIRu4FDd0pUXYODLNa5uYM6Lh-w\n",
            "\n",
            "The authorization workflow will generate a code, which you should paste in the box below.\n",
            "Enter verification code: 4/1AfgeXvuwjM-dheDA3OOpdNg6xv5Rw7uhRwy1hC3KVHdzJJANx7JTwg_cnls\n",
            "\n",
            "Successfully saved authorization token.\n"
          ]
        }
      ],
      "source": [
        "ee.Authenticate()\n",
        "ee.Initialize()"
      ]
    },
    {
      "cell_type": "code",
      "source": [
        "# Map = geemap.Map()\n",
        "# Map"
      ],
      "metadata": {
        "id": "W4TjEUpdZMSO"
      },
      "execution_count": 19,
      "outputs": []
    },
    {
      "cell_type": "code",
      "execution_count": 20,
      "metadata": {
        "id": "dyu4a5PZsYTP"
      },
      "outputs": [],
      "source": [
        "# Function to mask clouds based on the pixel_qa band of Landsat 4, 5 and 7 SR data.\n",
        "\n",
        "def cloudMaskL457(image):\n",
        "  qa = image.select('pixel_qa')\n",
        "  cloud = qa.bitwiseAnd(1 << 5).And(qa.bitwiseAnd(1 << 7)).Or(qa.bitwiseAnd(1 << 3))\n",
        "  # Get the pixel QA band.\n",
        "  mask = image.mask().reduce(ee.Reducer.min())\n",
        "  return image.updateMask(cloud.Not()).updateMask(mask)"
      ]
    },
    {
      "cell_type": "markdown",
      "metadata": {
        "id": "tB4xf-CVsYTQ"
      },
      "source": [
        "### <font style='color:rgb(50,120,230)'>Setting the parameters for getting data from Google Earth Engine.</font>"
      ]
    },
    {
      "cell_type": "code",
      "execution_count": 21,
      "metadata": {
        "id": "kcTJprD_sYTS"
      },
      "outputs": [],
      "source": [
        "# The Region of interest, Cancún, Mexoco.\n",
        "geometry = ee.Geometry.Polygon(\n",
        "    [[  [-87.10988867671762,21.07449634501289],\n",
        "        [-86.81669104488168,21.07449634501289],\n",
        "        [-86.81669104488168,21.251229199817406],\n",
        "        [-87.10988867671762,21.251229199817406]]], \n",
        "        None,\n",
        "        False)\n",
        "\n",
        "# Setting the parameters for Landsat5\n",
        "visParams5 = {\n",
        "  \"bands\": ['B3', 'B2', 'B1'],\n",
        "  \"min\": 0,\n",
        "  \"max\": 3000,\n",
        "  \"gamma\": 1.4\n",
        "}\n",
        "\n",
        "dataset85 = ee.ImageCollection('LANDSAT/LT05/C01/T1_SR').filterDate('1985-01-01', '1985-12-31').map(cloudMaskL457)\n",
        "lansat85 = dataset85.median().clip(geometry)\n",
        "\n",
        "dataset93 = ee.ImageCollection('LANDSAT/LT05/C01/T1_SR').filterDate('1993-01-01', '1993-12-31').map(cloudMaskL457)\n",
        "lansat93 = dataset93.median().clip(geometry)\n",
        "\n",
        "dataset01 = ee.ImageCollection('LANDSAT/LT05/C01/T1_SR').filterDate('2001-01-01', '2001-12-31').map(cloudMaskL457)\n",
        "lansat01 = dataset01.median().clip(geometry)\n",
        "\n",
        "dataset11 = ee.ImageCollection('LANDSAT/LT05/C01/T1_SR').filterDate('2009-01-01', '2011-12-31').map(cloudMaskL457)\n",
        "lansat11 = dataset11.median().clip(geometry)"
      ]
    },
    {
      "cell_type": "code",
      "execution_count": 22,
      "metadata": {
        "id": "X-EKMgGysYTU"
      },
      "outputs": [],
      "source": [
        "def add_ee_layer(self, ee_image_object, vis_params, name):\n",
        "    map_id_dict = ee.Image(ee_image_object).getMapId(vis_params)\n",
        "    folium.raster_layers.TileLayer(\n",
        "        tiles=map_id_dict['tile_fetcher'].url_format,\n",
        "        attr='Map Data &copy; <a href=\"https://earthengine.google.com/\">Google Earth Engine</a>',\n",
        "        name=name,\n",
        "        overlay=True,\n",
        "        control=True\n",
        "    ).add_to(self)\n",
        "\n",
        "folium.Map.add_ee_layer = add_ee_layer"
      ]
    },
    {
      "cell_type": "markdown",
      "metadata": {
        "id": "3dsH6pt7sYTV"
      },
      "source": [
        "### <font style='color:rgb(50,120,230)'>Generating the Map with set center and zoom levels.</font>"
      ]
    },
    {
      "cell_type": "code",
      "execution_count": 24,
      "metadata": {
        "id": "KQChA2TWsYTV",
        "outputId": "05128a41-7b9c-4111-ab7f-3a796e11209e",
        "colab": {
          "base_uri": "https://localhost:8080/",
          "height": 927
        }
      },
      "outputs": [
        {
          "output_type": "display_data",
          "data": {
            "text/plain": [
              "<folium.folium.Map at 0x7fa7f396cd60>"
            ],
            "text/html": [
              "<div style=\"width:100%;\"><div style=\"position:relative;width:100%;height:0;padding-bottom:60%;\"><span style=\"color:#565656\">Make this Notebook Trusted to load map: File -> Trust Notebook</span><iframe srcdoc=\"&lt;!DOCTYPE html&gt;\n",
              "&lt;html&gt;\n",
              "&lt;head&gt;\n",
              "    \n",
              "    &lt;meta http-equiv=&quot;content-type&quot; content=&quot;text/html; charset=UTF-8&quot; /&gt;\n",
              "    \n",
              "        &lt;script&gt;\n",
              "            L_NO_TOUCH = false;\n",
              "            L_DISABLE_3D = false;\n",
              "        &lt;/script&gt;\n",
              "    \n",
              "    &lt;style&gt;html, body {width: 100%;height: 100%;margin: 0;padding: 0;}&lt;/style&gt;\n",
              "    &lt;style&gt;#map {position:absolute;top:0;bottom:0;right:0;left:0;}&lt;/style&gt;\n",
              "    &lt;script src=&quot;https://cdn.jsdelivr.net/npm/leaflet@1.6.0/dist/leaflet.js&quot;&gt;&lt;/script&gt;\n",
              "    &lt;script src=&quot;https://code.jquery.com/jquery-1.12.4.min.js&quot;&gt;&lt;/script&gt;\n",
              "    &lt;script src=&quot;https://maxcdn.bootstrapcdn.com/bootstrap/3.2.0/js/bootstrap.min.js&quot;&gt;&lt;/script&gt;\n",
              "    &lt;script src=&quot;https://cdnjs.cloudflare.com/ajax/libs/Leaflet.awesome-markers/2.0.2/leaflet.awesome-markers.js&quot;&gt;&lt;/script&gt;\n",
              "    &lt;link rel=&quot;stylesheet&quot; href=&quot;https://cdn.jsdelivr.net/npm/leaflet@1.6.0/dist/leaflet.css&quot;/&gt;\n",
              "    &lt;link rel=&quot;stylesheet&quot; href=&quot;https://maxcdn.bootstrapcdn.com/bootstrap/3.2.0/css/bootstrap.min.css&quot;/&gt;\n",
              "    &lt;link rel=&quot;stylesheet&quot; href=&quot;https://maxcdn.bootstrapcdn.com/bootstrap/3.2.0/css/bootstrap-theme.min.css&quot;/&gt;\n",
              "    &lt;link rel=&quot;stylesheet&quot; href=&quot;https://maxcdn.bootstrapcdn.com/font-awesome/4.6.3/css/font-awesome.min.css&quot;/&gt;\n",
              "    &lt;link rel=&quot;stylesheet&quot; href=&quot;https://cdnjs.cloudflare.com/ajax/libs/Leaflet.awesome-markers/2.0.2/leaflet.awesome-markers.css&quot;/&gt;\n",
              "    &lt;link rel=&quot;stylesheet&quot; href=&quot;https://cdn.jsdelivr.net/gh/python-visualization/folium/folium/templates/leaflet.awesome.rotate.min.css&quot;/&gt;\n",
              "    \n",
              "            &lt;meta name=&quot;viewport&quot; content=&quot;width=device-width,\n",
              "                initial-scale=1.0, maximum-scale=1.0, user-scalable=no&quot; /&gt;\n",
              "            &lt;style&gt;\n",
              "                #map_69685ce3246fe66defaadeafc563d647 {\n",
              "                    position: relative;\n",
              "                    width: 100.0%;\n",
              "                    height: 100.0%;\n",
              "                    left: 0.0%;\n",
              "                    top: 0.0%;\n",
              "                }\n",
              "            &lt;/style&gt;\n",
              "        \n",
              "&lt;/head&gt;\n",
              "&lt;body&gt;\n",
              "    \n",
              "    \n",
              "            &lt;div class=&quot;folium-map&quot; id=&quot;map_69685ce3246fe66defaadeafc563d647&quot; &gt;&lt;/div&gt;\n",
              "        \n",
              "&lt;/body&gt;\n",
              "&lt;script&gt;\n",
              "    \n",
              "    \n",
              "            var map_69685ce3246fe66defaadeafc563d647 = L.map(\n",
              "                &quot;map_69685ce3246fe66defaadeafc563d647&quot;,\n",
              "                {\n",
              "                    center: [21.18, -86.95],\n",
              "                    crs: L.CRS.EPSG3857,\n",
              "                    zoom: 11,\n",
              "                    zoomControl: true,\n",
              "                    preferCanvas: false,\n",
              "                }\n",
              "            );\n",
              "\n",
              "            \n",
              "\n",
              "        \n",
              "    \n",
              "            var tile_layer_99123237fad64eb40f9a359fe851786f = L.tileLayer(\n",
              "                &quot;https://{s}.tile.openstreetmap.org/{z}/{x}/{y}.png&quot;,\n",
              "                {&quot;attribution&quot;: &quot;Data by \\u0026copy; \\u003ca href=\\&quot;http://openstreetmap.org\\&quot;\\u003eOpenStreetMap\\u003c/a\\u003e, under \\u003ca href=\\&quot;http://www.openstreetmap.org/copyright\\&quot;\\u003eODbL\\u003c/a\\u003e.&quot;, &quot;detectRetina&quot;: false, &quot;maxNativeZoom&quot;: 18, &quot;maxZoom&quot;: 18, &quot;minZoom&quot;: 0, &quot;noWrap&quot;: false, &quot;opacity&quot;: 1, &quot;subdomains&quot;: &quot;abc&quot;, &quot;tms&quot;: false}\n",
              "            ).addTo(map_69685ce3246fe66defaadeafc563d647);\n",
              "        \n",
              "    \n",
              "            var tile_layer_4d46f72434da81a7e8301b630aba8290 = L.tileLayer(\n",
              "                &quot;https://earthengine.googleapis.com/v1alpha/projects/earthengine-legacy/maps/9c18b190653b502828d3222795efc8bb-134448b098ea6ac655f0adc1455760f8/tiles/{z}/{x}/{y}&quot;,\n",
              "                {&quot;attribution&quot;: &quot;Map Data \\u0026copy; \\u003ca href=\\&quot;https://earthengine.google.com/\\&quot;\\u003eGoogle Earth Engine\\u003c/a\\u003e&quot;, &quot;detectRetina&quot;: false, &quot;maxNativeZoom&quot;: 18, &quot;maxZoom&quot;: 18, &quot;minZoom&quot;: 0, &quot;noWrap&quot;: false, &quot;opacity&quot;: 1, &quot;subdomains&quot;: &quot;abc&quot;, &quot;tms&quot;: false}\n",
              "            ).addTo(map_69685ce3246fe66defaadeafc563d647);\n",
              "        \n",
              "    \n",
              "            var tile_layer_ccba6d1a021d7f1bd659c57480706065 = L.tileLayer(\n",
              "                &quot;https://earthengine.googleapis.com/v1alpha/projects/earthengine-legacy/maps/a5456f96d63d708f8589b5cff459f298-73146bd35e807e8cafecceb755932040/tiles/{z}/{x}/{y}&quot;,\n",
              "                {&quot;attribution&quot;: &quot;Map Data \\u0026copy; \\u003ca href=\\&quot;https://earthengine.google.com/\\&quot;\\u003eGoogle Earth Engine\\u003c/a\\u003e&quot;, &quot;detectRetina&quot;: false, &quot;maxNativeZoom&quot;: 18, &quot;maxZoom&quot;: 18, &quot;minZoom&quot;: 0, &quot;noWrap&quot;: false, &quot;opacity&quot;: 1, &quot;subdomains&quot;: &quot;abc&quot;, &quot;tms&quot;: false}\n",
              "            ).addTo(map_69685ce3246fe66defaadeafc563d647);\n",
              "        \n",
              "    \n",
              "            var tile_layer_b578b235e0364638dab8cf6b91db5d9a = L.tileLayer(\n",
              "                &quot;https://earthengine.googleapis.com/v1alpha/projects/earthengine-legacy/maps/7dbae90bca6fb08365242f2512697564-a1136ff8a01d0f01b2101780b3ae1988/tiles/{z}/{x}/{y}&quot;,\n",
              "                {&quot;attribution&quot;: &quot;Map Data \\u0026copy; \\u003ca href=\\&quot;https://earthengine.google.com/\\&quot;\\u003eGoogle Earth Engine\\u003c/a\\u003e&quot;, &quot;detectRetina&quot;: false, &quot;maxNativeZoom&quot;: 18, &quot;maxZoom&quot;: 18, &quot;minZoom&quot;: 0, &quot;noWrap&quot;: false, &quot;opacity&quot;: 1, &quot;subdomains&quot;: &quot;abc&quot;, &quot;tms&quot;: false}\n",
              "            ).addTo(map_69685ce3246fe66defaadeafc563d647);\n",
              "        \n",
              "    \n",
              "            var tile_layer_636a6aac165c7d029a2eda217d4ec1d0 = L.tileLayer(\n",
              "                &quot;https://earthengine.googleapis.com/v1alpha/projects/earthengine-legacy/maps/0f2c2f3f306a38d42f013c41482dc41e-00e9e7b774b898cd4cb8f763d6506d9f/tiles/{z}/{x}/{y}&quot;,\n",
              "                {&quot;attribution&quot;: &quot;Map Data \\u0026copy; \\u003ca href=\\&quot;https://earthengine.google.com/\\&quot;\\u003eGoogle Earth Engine\\u003c/a\\u003e&quot;, &quot;detectRetina&quot;: false, &quot;maxNativeZoom&quot;: 18, &quot;maxZoom&quot;: 18, &quot;minZoom&quot;: 0, &quot;noWrap&quot;: false, &quot;opacity&quot;: 1, &quot;subdomains&quot;: &quot;abc&quot;, &quot;tms&quot;: false}\n",
              "            ).addTo(map_69685ce3246fe66defaadeafc563d647);\n",
              "        \n",
              "    \n",
              "            var layer_control_47378d5762ba59e8b3f8f2f86e114f60 = {\n",
              "                base_layers : {\n",
              "                    &quot;openstreetmap&quot; : tile_layer_99123237fad64eb40f9a359fe851786f,\n",
              "                },\n",
              "                overlays :  {\n",
              "                    &quot;1985&quot; : tile_layer_636a6aac165c7d029a2eda217d4ec1d0,\n",
              "                    &quot;1993&quot; : tile_layer_ccba6d1a021d7f1bd659c57480706065,\n",
              "                    &quot;2001&quot; : tile_layer_b578b235e0364638dab8cf6b91db5d9a,\n",
              "                },\n",
              "            };\n",
              "            L.control.layers(\n",
              "                layer_control_47378d5762ba59e8b3f8f2f86e114f60.base_layers,\n",
              "                layer_control_47378d5762ba59e8b3f8f2f86e114f60.overlays,\n",
              "                {&quot;autoZIndex&quot;: true, &quot;collapsed&quot;: true, &quot;position&quot;: &quot;topright&quot;}\n",
              "            ).addTo(map_69685ce3246fe66defaadeafc563d647);\n",
              "        \n",
              "&lt;/script&gt;\n",
              "&lt;/html&gt;\" style=\"position:absolute;width:100%;height:100%;left:0;top:0;border:none !important;\" allowfullscreen webkitallowfullscreen mozallowfullscreen></iframe></div></div>"
            ]
          },
          "metadata": {}
        }
      ],
      "source": [
        "\n",
        "map = folium.Map(location = (21.18, -86.95), zoom_start = 11)\n",
        "# Adding the generated images onto the map.\n",
        "map.add_ee_layer(lansat85, visParams5, '1985')\n",
        "map.add_ee_layer(lansat93, visParams5, '1993')\n",
        "map.add_ee_layer(lansat01, visParams5, '2001')\n",
        "map.add_ee_layer(lansat11, visParams5, '1985')\n",
        "\n",
        "# Add a layer control panel to the map.\n",
        "map.add_child(folium.LayerControl())\n",
        "\n",
        "# Display the map.\n",
        "display(map)"
      ]
    },
    {
      "cell_type": "code",
      "source": [
        "task_config = {\n",
        "  'folder': '/content/drive/MyDrive/LandSatImagesSHA/',\n",
        "  'scale': 30,\n",
        "  'region': geometry,\n",
        "  'fileFormat': 'GeoTIFF',\n",
        "  'maxPixels': 1e9,\n",
        "  'formatOptions': {\n",
        "    'cloudOptimized': True\n",
        "  }\n",
        "}\n",
        "task1 = ee.batch.Export.image.toDrive(lansat85, description= '1985api', **task_config)\n",
        "task2 = ee.batch.Export.image.toDrive(lansat93, description= '1993api', **task_config)\n",
        "task3 = ee.batch.Export.image.toDrive(lansat01, description= '2001api', **task_config)\n",
        "task4 = ee.batch.Export.image.toDrive(lansat11, description= '2011api', **task_config)"
      ],
      "metadata": {
        "id": "A9QINQ6aXgez"
      },
      "execution_count": 14,
      "outputs": []
    },
    {
      "cell_type": "code",
      "execution_count": 15,
      "metadata": {
        "id": "yKFC0Hb6sYTY"
      },
      "outputs": [],
      "source": [
        "task1.start()\n",
        "task2.start()\n",
        "task3.start()\n",
        "task4.start()"
      ]
    },
    {
      "cell_type": "code",
      "source": [],
      "metadata": {
        "id": "MMYAZHcrZrch"
      },
      "execution_count": null,
      "outputs": []
    }
  ],
  "metadata": {
    "interpreter": {
      "hash": "1e654b3bc3aace0335b326231d51e90ebd214a7f2d0629a648660f7deb4b3382"
    },
    "kernelspec": {
      "display_name": "opencv_env",
      "language": "python",
      "name": "opencv_env"
    },
    "language_info": {
      "codemirror_mode": {
        "name": "ipython",
        "version": 3
      },
      "file_extension": ".py",
      "mimetype": "text/x-python",
      "name": "python",
      "nbconvert_exporter": "python",
      "pygments_lexer": "ipython3",
      "version": "3.10.8"
    },
    "varInspector": {
      "cols": {
        "lenName": 16,
        "lenType": 16,
        "lenVar": 40
      },
      "kernels_config": {
        "python": {
          "delete_cmd_postfix": "",
          "delete_cmd_prefix": "del ",
          "library": "var_list.py",
          "varRefreshCmd": "print(var_dic_list())"
        },
        "r": {
          "delete_cmd_postfix": ") ",
          "delete_cmd_prefix": "rm(",
          "library": "var_list.r",
          "varRefreshCmd": "cat(var_dic_list()) "
        }
      },
      "types_to_exclude": [
        "module",
        "function",
        "builtin_function_or_method",
        "instance",
        "_Feature"
      ],
      "window_display": false
    },
    "colab": {
      "provenance": []
    },
    "gpuClass": "standard"
  },
  "nbformat": 4,
  "nbformat_minor": 0
}